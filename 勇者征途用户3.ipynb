{
 "cells": [
  {
   "cell_type": "code",
   "execution_count": 2,
   "metadata": {},
   "outputs": [],
   "source": [
    "import json\n",
    "import pandas as pd\n",
    "from scipy.stats import entropy\n",
    "from pandas import Series, DataFrame\n",
    "import matplotlib.dates as mdates\n",
    "import records\n",
    "import seaborn as sns\n",
    "import numpy as np\n",
    "import matplotlib.pyplot as plt\n",
    "import datetime\n",
    "from dateutil.parser import parse"
   ]
  },
  {
   "cell_type": "code",
   "execution_count": 3,
   "metadata": {},
   "outputs": [],
   "source": [
    "#年龄计算函数\n",
    "def calculate_age(birthDate):\n",
    "    days_in_year = 365.2425\n",
    "    age = int((datetime.datetime.today() - birthDate).days / days_in_year)\n",
    "    return age"
   ]
  },
  {
   "cell_type": "code",
   "execution_count": 7,
   "metadata": {},
   "outputs": [],
   "source": [
    "#提取数据， 解析json\n",
    "with records.Database(\n",
    "            'mysql+pymysql://makex:P@ssw0rd@rm-wz945n00bvy1fbj16oo.mysql.rds.aliyuncs.com:3306/2019_data_analyse?charset=utf8') as db:\n",
    "    db.query('use 2019_data_analyse;')\n",
    "\n",
    "    regs = json.loads(db.query(\"select * from regs inner join games on regs.game_id = games.id \").export('json'))\n",
    "    game_users = []\n",
    "    for reg in regs:\n",
    "        for user in json.loads(reg['users']):\n",
    "            if user['teamRole'] == 'teacher':\n",
    "                continue\n",
    "            game_users.append({\n",
    "                'reg_id' : reg['id'],\n",
    "                'birthday' : user['birthday'],\n",
    "                'game_type_id': reg['game_type_id'],\n",
    "                'user_name':user['name'],\n",
    "                'team_id':reg['team_id']\n",
    "            })\n",
    "    df = DataFrame.from_records(game_users)\n",
    "    df['age'] = df['birthday'].apply(lambda a: calculate_age(parse(a)))\n",
    "df.to_excel('勇者征途年龄.xlsx')\n",
    "#     #分类画图\n",
    "#     gdf = df.groupby(['game_type_id','age'])['reg_id'].count().reset_index()\n",
    "#     print(gdf)\n",
    "#     data = gdf[gdf['game_type_id'] == 5]\n",
    "#     print(data)\n",
    "#     sns.barplot(x=data['age'],y=data['reg_id'])\n",
    "#     plt.show()"
   ]
  }
 ],
 "metadata": {
  "kernelspec": {
   "display_name": "Python 3",
   "language": "python",
   "name": "python3"
  },
  "language_info": {
   "codemirror_mode": {
    "name": "ipython",
    "version": 3
   },
   "file_extension": ".py",
   "mimetype": "text/x-python",
   "name": "python",
   "nbconvert_exporter": "python",
   "pygments_lexer": "ipython3",
   "version": "3.7.4"
  }
 },
 "nbformat": 4,
 "nbformat_minor": 2
}
